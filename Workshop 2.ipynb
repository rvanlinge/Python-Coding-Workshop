{
 "cells": [
  {
   "cell_type": "markdown",
   "metadata": {},
   "source": [
    "# Workshop 2\n",
    "\n",
    "From last time we ended with creating a simple for loop to model something dropping in free fall. Just to serve as a reminder, a for loop is a way of computing a \n",
    "\n",
    "The steps to writing a for loop is as follows:\n",
    "\n",
    "1. Create a list(s) to hold your values\n",
    "2. Figure out the algorithm \n",
    "3. Decide what variables in that algorithm are set and which are being iterated\n",
    "4. Create set variables\n",
    "5. Write for loop\n",
    "6. Append final values to your list\n",
    "\n",
    "Lets revisit the previous example"
   ]
  },
  {
   "cell_type": "code",
   "execution_count": 6,
   "metadata": {},
   "outputs": [
    {
     "name": "stdout",
     "output_type": "stream",
     "text": [
      "[-0.0, -4.905, -19.62, -44.145, -78.48, -122.625, -176.58, -240.345, -313.92, -397.305, -490.5, -593.505, -706.32, -828.945, -961.38, -1103.625, -1255.68, -1417.545, -1589.22, -1770.7050000000002] [0, 1, 2, 3, 4, 5, 6, 7, 8, 9, 10, 11, 12, 13, 14, 15, 16, 17, 18, 19]\n"
     ]
    }
   ],
   "source": [
    "'''\n",
    "The equation for a free falling object is:\n",
    "y = -(gt**2)/2\n",
    "where g is constant and t is being iterated\n",
    "'''\n",
    "positions = [] # Creating list to hold values\n",
    "time = []\n",
    "g = 9.81\n",
    "\n",
    "for t in range(20): # This will iterate the dummy variable t from 0 to 20 (the first index in python is 0)\n",
    "    time.append(t) # puts the value of time in here\n",
    "    positions.append(-0.5*g*t**2) # calculates positions at various time\n",
    "\n",
    "print(positions,time)"
   ]
  },
  {
   "cell_type": "markdown",
   "metadata": {},
   "source": [
    "Now lets create a plot of this. We're going to need to call some libraries in order to plot this. \n",
    "\n",
    "Libraries/packages are the bread and butter of Python. They are bits of code already made to do exactly what you so that you don't have to build your own code every single time (such as in C). There are some main packages that you'll use often there are just to name a few:\n",
    "\n",
    "* numpy - has almost any mathematical functions/operation you need, also it's nice to work in numpy arrays as there are limitations with lists\n",
    "* matplotlib - used to visualize data from simple plots, histograms, 3D plots, gifs, density plots, etc\n",
    "* scipy - similar to numpy but has more advance topics such as Bayesian statistics and scientific analysis\n",
    "* pandas - a flexible data structures package (think Excel) that is easy to use\n",
    "\n",
    "\n",
    "Since we're trying to plot our data, let's import **pyplot** from **matplotlib**\n"
   ]
  },
  {
   "cell_type": "code",
   "execution_count": 7,
   "metadata": {},
   "outputs": [],
   "source": [
    "import matplotlib.pyplot as plt"
   ]
  },
  {
   "cell_type": "markdown",
   "metadata": {},
   "source": [
    "Here we used the key word **import** which basically tells your computer to bring in the package into your python environment so you can use it. An analogy would be renting a book from the library to read at home. We then tell the computer which library to grab which is **pyplot** from the package **matplotlib** hence **matplotlib.pyplot**.\n",
    "\n",
    "The **as** lets you give that package a shortened name as you have to \"call\" the function everytime you want to use it. So in this case, all we have to type is **plt** instead of **matplotlib.pyplot** - coding is all about efficiency! \n",
    "\n",
    "**plt** is convention along with **np** for numpy, **pd** for pandas.\n",
    "\n",
    "Now let's plot this!"
   ]
  },
  {
   "cell_type": "code",
   "execution_count": 8,
   "metadata": {},
   "outputs": [
    {
     "data": {
      "image/png": "[encoded data removed]",
      "text/plain": [
       "<Figure size 720x504 with 1 Axes>"
      ]
     },
     "metadata": {
      "needs_background": "light"
     },
     "output_type": "display_data"
    }
   ],
   "source": [
    "plt.figure(figsize=(10,7))\n",
    "plt.scatter(time,positions,color='k',marker='^')\n",
    "plt.xlabel('Time (seconds)')\n",
    "plt.ylabel('Position (meters)')\n",
    "plt.show()"
   ]
  },
  {
   "cell_type": "markdown",
   "metadata": {},
   "source": [
    "Viola! We have plotted the position against time!\n"
   ]
  },
  {
   "cell_type": "markdown",
   "metadata": {},
   "source": [
    "## For loop inception\n",
    "\n",
    "\n",
    "Now let's get into this idea of a for loop inside a for loop or more formally known as _nested for loops_. Say we want to create a loop that iterates through a list of values and performs an operation for each value. We can do this by \"nesting\" a for loop within a for loop. \n",
    "\n",
    "_**Example**_\n",
    "Suppose there are three masses m1, m2, and m3 all individually tied to its own string. Those three strings are attached to a metal ring that sits in the middle of a circular table. The three masses hang off the side of the circular table and each have an angle (alpha, beta, gamma) with respect to a 0 mark on the table.\n",
    "\n",
    "1. If the values of m1, m2, alpha, beta are known and we vary gamma what should the value of m3 be such that the system is in equilibrium? \n",
    "Let: \n",
    "    * m1 = 0.5,1.5,2.5 kg\n",
    "    * m2 = 1.2 kg\n",
    "    * alpha = 45 degrees\n",
    "    * beta = 132 degrees\n",
    "    * gamma = 10, 200, and 345 degrees\n",
    "\n",
    "2. Find total tension"
   ]
  },
  {
   "cell_type": "code",
   "execution_count": 99,
   "metadata": {},
   "outputs": [],
   "source": [
    "'''\n",
    "Example\n",
    "'''\n",
    "m1 = [0.5,5,10]\n",
    "m2 = 10\n",
    "m3 = []\n",
    "alpha = 45/180*np.pi\n",
    "beta = 132/180*np.pi\n",
    "gamma = [10/180*np.pi,200/180*np.pi,345/180*np.pi]\n",
    "\n",
    "\n"
   ]
  },
  {
   "cell_type": "code",
   "execution_count": 104,
   "metadata": {},
   "outputs": [
    {
     "name": "stdout",
     "output_type": "stream",
     "text": [
      "10.0 6.435522723709447\n",
      "200.0 -6.744495522051401\n",
      "345.0 6.5613243796823735\n",
      "10.0 3.2044550299318377\n",
      "200.0 -3.358302585175696\n",
      "345.0 3.2670957456224254\n",
      "10.0 -0.38562018537661635\n",
      "200.0 0.404134011352866\n",
      "345.0 -0.393158292221961\n"
     ]
    }
   ],
   "source": [
    "for m in m1:\n",
    "    for g in gamma:\n",
    "        m3 = -(m*np.cos(alpha)+m2*np.cos(beta))/np.cos(g)\n",
    "        print(g*180/np.pi,m3)"
   ]
  },
  {
   "cell_type": "markdown",
   "metadata": {},
   "source": [
    "## While Loops\n",
    "\n",
    "Say we don't know how many times we want to iterate through or something"
   ]
  },
  {
   "cell_type": "markdown",
   "metadata": {},
   "source": [
    "## Harder Example\n",
    "First, let's start with an example. Say now we want to change our 1D particle into a 2D by launching it from a canon with some initial velocity v0 at some angle theta. We now have an x and y component of motion. Now I'm not going to go through how to solve for these equations (you should do it on your own for practice) but the end result is that:\n",
    "\n",
    "* x = (v0)(t)(cos(theta))+x0\n",
    "* y = -(1/2 g)(t)^2+(v0)(t)(sin(theta))+y0\n",
    "\n",
    "We want to see what is the path of the particle looks like for theta = 30,45,60 degrees (we'll need to convert this into radians since numpy trig functions takes in radians) for t values running from 0 to 60. \n",
    "\n",
    "Let's take v0 = 5 m/s and x0 = y0 = 0."
   ]
  },
  {
   "cell_type": "code",
   "execution_count": 13,
   "metadata": {},
   "outputs": [],
   "source": [
    "'''\n",
    "Importing numpy\n",
    "'''\n",
    "import numpy as np\n",
    "import matplotlib.pyplot as plt # this is actually not necessary since we already called it"
   ]
  },
  {
   "cell_type": "code",
   "execution_count": 77,
   "metadata": {},
   "outputs": [],
   "source": [
    "'''\n",
    "Defining known variables and creating lists for our position values\n",
    "'''\n",
    "theta = [30/180*np.pi,45/180*np.pi,60/180*np.pi] # angles 30,45,60 and converting to radians\n",
    "v0 = 40\n",
    "g = 9.81\n",
    "\n",
    "# position lists\n",
    "x = []\n",
    "y = []"
   ]
  },
  {
   "cell_type": "code",
   "execution_count": 78,
   "metadata": {},
   "outputs": [],
   "source": [
    "'''\n",
    "Creating our nested for loop\n",
    "'''\n",
    "plt.figure(figsize=(10,7))\n",
    "for j in theta:\n",
    "    for t in range(10):\n",
    "        x.append(v0*t*np.cos(theta))\n",
    "        y.append(-0.5*g*t**2+v0*t*np.sin(theta))\n",
    "        \n",
    "x = np.array(x)\n",
    "y = np.array(y)\n",
    "y = y[y>0]"
   ]
  },
  {
   "cell_type": "code",
   "execution_count": 71,
   "metadata": {},
   "outputs": [
    {
     "data": {
      "image/png": "[encoded data removed]",
      "text/plain": [
       "<Figure size 720x504 with 1 Axes>"
      ]
     },
     "metadata": {
      "needs_background": "light"
     },
     "output_type": "display_data"
    }
   ],
   "source": [
    "'''\n",
    "Plotting\n",
    "'''\n",
    "plt.figure(figsize=(10,7))\n",
    "plt.scatter(x,y,color='darkgreen')\n",
    "plt.xlabel('Horizontal Position (meters)')\n",
    "plt.ylabel('Vertical Position (meters)')\n",
    "plt.show()"
   ]
  },
  {
   "cell_type": "code",
   "execution_count": 75,
   "metadata": {},
   "outputs": [
    {
     "data": {
      "text/plain": [
       "1.0"
      ]
     },
     "execution_count": 75,
     "metadata": {},
     "output_type": "execute_result"
    }
   ],
   "source": []
  },
  {
   "cell_type": "code",
   "execution_count": null,
   "metadata": {},
   "outputs": [],
   "source": []
  }
 ],
 "metadata": {
  "kernelspec": {
   "display_name": "Python 3",
   "language": "python",
   "name": "python3"
  },
  "language_info": {
   "codemirror_mode": {
    "name": "ipython",
    "version": 3
   },
   "file_extension": ".py",
   "mimetype": "text/x-python",
   "name": "python",
   "nbconvert_exporter": "python",
   "pygments_lexer": "ipython3",
   "version": "3.7.1"
  }
 },
 "nbformat": 4,
 "nbformat_minor": 2
}
